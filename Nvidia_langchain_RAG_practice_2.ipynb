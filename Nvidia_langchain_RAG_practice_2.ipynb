{
  "cells": [
    {
      "cell_type": "code",
      "execution_count": 32,
      "metadata": {
        "id": "MZt86yjlKftT"
      },
      "outputs": [],
      "source": [
        "!pip install langchain_nvidia_ai_endpoints -q"
      ]
    },
    {
      "cell_type": "code",
      "execution_count": 33,
      "metadata": {
        "id": "ytuB_kzBMfd8"
      },
      "outputs": [],
      "source": [
        "!pip install langchain_community -q"
      ]
    },
    {
      "cell_type": "code",
      "execution_count": 34,
      "metadata": {
        "id": "56l-BjudKpq8"
      },
      "outputs": [],
      "source": [
        "!pip install langchain-community langchain-text-splitters faiss-cpu -q"
      ]
    },
    {
      "cell_type": "code",
      "execution_count": 7,
      "metadata": {
        "id": "qDX-dP0wLMid"
      },
      "outputs": [],
      "source": [
        "from langchain_nvidia_ai_endpoints import NVIDIAEmbeddings, ChatNVIDIA"
      ]
    },
    {
      "cell_type": "code",
      "execution_count": 8,
      "metadata": {
        "id": "Of_4cUcSNl6Y"
      },
      "outputs": [],
      "source": [
        "import os"
      ]
    },
    {
      "cell_type": "code",
      "execution_count": 9,
      "metadata": {
        "id": "IB2D_S60MSsF"
      },
      "outputs": [],
      "source": [
        "from langchain_community.document_loaders import WebBaseLoader"
      ]
    },
    {
      "cell_type": "code",
      "execution_count": 10,
      "metadata": {
        "id": "izjuFtnYM2uO"
      },
      "outputs": [],
      "source": [
        "#loader = WebBaseLoader(\"https://medium.com/@artgor/paper-review-personalized-audiobook-recommendations-at-spotify-through-graph-neural-networks-bd24cf0dd198\")\n",
        "loader = WebBaseLoader(\"https://medium.com/@artgor/paper-review-personalized-audiobook-recommendations-at-spotify-through-graph-neural-networks-bd24cf0dd198\")"
      ]
    },
    {
      "cell_type": "code",
      "execution_count": 11,
      "metadata": {
        "id": "xdhRpCQfNGF-"
      },
      "outputs": [],
      "source": [
        "docs=loader.load()"
      ]
    },
    {
      "cell_type": "code",
      "execution_count": 12,
      "metadata": {
        "id": "fotV_LK5NKBl"
      },
      "outputs": [],
      "source": [
        "from google.colab import userdata\n",
        "os.environ['NVIDIA_API_KEY']=userdata.get('google_gemma')"
      ]
    },
    {
      "cell_type": "code",
      "execution_count": 13,
      "metadata": {
        "id": "LoYYdvQENYgm"
      },
      "outputs": [],
      "source": [
        "embeddings= NVIDIAEmbeddings()"
      ]
    },
    {
      "cell_type": "code",
      "execution_count": 14,
      "metadata": {
        "id": "G3wqmIvEN_7n"
      },
      "outputs": [],
      "source": [
        "from langchain_community.vectorstores import FAISS\n",
        "from langchain_text_splitters import RecursiveCharacterTextSplitter"
      ]
    },
    {
      "cell_type": "code",
      "execution_count": 15,
      "metadata": {
        "id": "pGntcELCO8G4"
      },
      "outputs": [],
      "source": [
        "text_splitter= RecursiveCharacterTextSplitter(chunk_size=500,chunk_overlap=50)"
      ]
    },
    {
      "cell_type": "code",
      "execution_count": 16,
      "metadata": {
        "id": "OR3iuZOWPK9v"
      },
      "outputs": [],
      "source": [
        "document=text_splitter.split_documents(docs)"
      ]
    },
    {
      "cell_type": "code",
      "execution_count": 17,
      "metadata": {
        "colab": {
          "base_uri": "https://localhost:8080/"
        },
        "id": "hFXV563gPUwe",
        "outputId": "6347442c-5a00-431d-d566-52494aa64383"
      },
      "outputs": [
        {
          "output_type": "execute_result",
          "data": {
            "text/plain": [
              "Document(page_content='Paper Review: Personalized Audiobook Recommendations at Spotify Through Graph Neural Networks | by Andrew Lukyanenko | Mar, 2024 | MediumOpen in appSign upSign inWriteSign upSign inPaper ReviewPaper Review: Personalized Audiobook Recommendations at Spotify Through Graph Neural NetworksRecommendation system for Audiobooks using GNN!Andrew Lukyanenko·Follow6 min read·Mar 19, 2024--ListenSharePaper linkSpotify has recently expanded its offerings to include audiobooks, presenting challenges in', metadata={'source': 'https://medium.com/@artgor/paper-review-personalized-audiobook-recommendations-at-spotify-through-graph-neural-networks-bd24cf0dd198', 'title': 'Paper Review: Personalized Audiobook Recommendations at Spotify Through Graph Neural Networks | by Andrew Lukyanenko | Mar, 2024 | Medium', 'description': 'Spotify has recently expanded its offerings to include audiobooks, presenting challenges in personalized recommendation due to the inability to skim audiobooks before purchase, data scarcity with the…', 'language': 'en'})"
            ]
          },
          "metadata": {},
          "execution_count": 17
        }
      ],
      "source": [
        "document[0]"
      ]
    },
    {
      "cell_type": "code",
      "execution_count": 18,
      "metadata": {
        "id": "pBBtUyUePa6G"
      },
      "outputs": [],
      "source": [
        "vector=FAISS.from_documents(document,embeddings)"
      ]
    },
    {
      "cell_type": "code",
      "execution_count": 19,
      "metadata": {
        "id": "VWPxC4ORPliJ"
      },
      "outputs": [],
      "source": [
        "reteiver=vector.as_retriever()"
      ]
    },
    {
      "cell_type": "code",
      "execution_count": 20,
      "metadata": {
        "id": "XcoGXI4KPwoP"
      },
      "outputs": [],
      "source": [
        "from langchain_core.prompts import ChatPromptTemplate\n",
        "from langchain_core.output_parsers import StrOutputParser"
      ]
    },
    {
      "cell_type": "code",
      "execution_count": 21,
      "metadata": {
        "id": "BiqVMmO1QM7q"
      },
      "outputs": [],
      "source": [
        "model = ChatNVIDIA(model=\"mistral_7b\")"
      ]
    },
    {
      "cell_type": "code",
      "execution_count": 22,
      "metadata": {
        "id": "kXvsGFJoQiHB"
      },
      "outputs": [],
      "source": [
        "hyde_template = \"\"\"Even if you do not know the full answer, generate a one-paragraph hypothetical answer to the below question:\n",
        "\n",
        "{question}\"\"\"\n",
        "hyde_prompt = ChatPromptTemplate.from_template(hyde_template)\n",
        "hyde_query_transformer = hyde_prompt | model | StrOutputParser()"
      ]
    },
    {
      "cell_type": "code",
      "execution_count": 23,
      "metadata": {
        "colab": {
          "base_uri": "https://localhost:8080/"
        },
        "id": "1gdNS-ANRCXo",
        "outputId": "5da32a52-9c8d-49ff-9ef5-55ccac19fbe5"
      },
      "outputs": [
        {
          "output_type": "execute_result",
          "data": {
            "text/plain": [
              "ChatPromptTemplate(input_variables=['question'], messages=[HumanMessagePromptTemplate(prompt=PromptTemplate(input_variables=['question'], template='Even if you do not know the full answer, generate a one-paragraph hypothetical answer to the below question:\\n\\n{question}'))])"
            ]
          },
          "metadata": {},
          "execution_count": 23
        }
      ],
      "source": [
        "hyde_prompt"
      ]
    },
    {
      "cell_type": "code",
      "execution_count": 24,
      "metadata": {
        "id": "L9YZStoVRH9Q"
      },
      "outputs": [],
      "source": [
        "from langchain_core.runnables import chain"
      ]
    },
    {
      "cell_type": "code",
      "execution_count": 25,
      "metadata": {
        "id": "tGt3OURURRbf"
      },
      "outputs": [],
      "source": [
        "@chain\n",
        "def hyde_ret(question):\n",
        "  hypo_document= hyde_query_transformer.invoke({\"question\":question})\n",
        "  return retriever.invoke(hypo_document)"
      ]
    },
    {
      "cell_type": "code",
      "execution_count": 26,
      "metadata": {
        "id": "RzGNA5vaR_4I"
      },
      "outputs": [],
      "source": [
        "template = \"\"\"Answer the question based only on the following context:\n",
        "{context}\n",
        "\n",
        "Question: {question}\n",
        "\"\"\"\n",
        "prompt = ChatPromptTemplate.from_template(template)\n",
        "answer_chain = prompt | model | StrOutputParser()"
      ]
    },
    {
      "cell_type": "code",
      "execution_count": 27,
      "metadata": {
        "id": "ANc1RD4CTHbp"
      },
      "outputs": [],
      "source": [
        "@chain\n",
        "def final_chain(question):\n",
        "    documents = hyde_query_transformer.invoke(question)\n",
        "    for s in answer_chain.stream({\"question\": question, \"context\": documents}):\n",
        "        yield s"
      ]
    },
    {
      "cell_type": "code",
      "execution_count": 29,
      "metadata": {
        "colab": {
          "base_uri": "https://localhost:8080/"
        },
        "id": "Vc_UT3QTTeno",
        "outputId": "21d64034-fd2d-4a49-86d2-28df30d7a1d8"
      },
      "outputs": [
        {
          "output_type": "stream",
          "name": "stdout",
          "text": [
            "Panimalar Engineering College offers undergraduate and postgraduate programs in various engineering disciplines. The following are some of the courses provided by the college:\n",
            "\n",
            "1. Computer Science and Engineering\n",
            "2. Electronics and Communication Engineering\n",
            "3. Mechanical Engineering\n",
            "4. Civil Engineering\n",
            "5. Information Technology\n",
            "\n",
            "These courses are designed to provide students with a strong foundation in their chosen field and prepare them for successful careers in engineering and technology. The college also offers extra-curricular activities, industrial visits, and research opportunities to enhance the overall learning experience of students."
          ]
        }
      ],
      "source": [
        "for s in final_chain.stream(\"what are the course of Panimalar Engineering College\"):\n",
        "    print(s, end=\"\")"
      ]
    },
    {
      "cell_type": "code",
      "execution_count": 31,
      "metadata": {
        "id": "Fat6Qa6oT2F5",
        "colab": {
          "base_uri": "https://localhost:8080/"
        },
        "outputId": "e405923d-1c2a-4d2b-e4fc-9c5f48ea57ad"
      },
      "outputs": [
        {
          "output_type": "stream",
          "name": "stdout",
          "text": [
            "The Information Technology (IT) Head of Department (HOD) is an experienced and qualified IT professional responsible for managing and leading the IT team, implementing IT strategies, and ensuring the effective and efficient use of technology to support the organization's goals. They have a strong background in IT, a deep understanding of the latest technologies and trends in the field, excellent communication and leadership skills, and are dedicated to using technology to drive innovation, improve processes, and provide value to the organization."
          ]
        }
      ],
      "source": [
        "for s in final_chain.stream(\"who is the Information Technology's HOD?\"):\n",
        "    print(s, end=\"\")"
      ]
    },
    {
      "cell_type": "code",
      "source": [],
      "metadata": {
        "id": "ZIs1hWiwZplR"
      },
      "execution_count": null,
      "outputs": []
    }
  ],
  "metadata": {
    "colab": {
      "provenance": []
    },
    "kernelspec": {
      "display_name": "Python 3 (ipykernel)",
      "language": "python",
      "name": "python3"
    },
    "language_info": {
      "codemirror_mode": {
        "name": "ipython",
        "version": 3
      },
      "file_extension": ".py",
      "mimetype": "text/x-python",
      "name": "python",
      "nbconvert_exporter": "python",
      "pygments_lexer": "ipython3",
      "version": "3.12.1"
    }
  },
  "nbformat": 4,
  "nbformat_minor": 0
}